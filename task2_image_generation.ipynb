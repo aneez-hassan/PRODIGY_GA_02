{
  "nbformat": 4,
  "nbformat_minor": 0,
  "metadata": {
    "colab": {
      "provenance": [],
      "gpuType": "T4"
    },
    "kernelspec": {
      "name": "python3",
      "display_name": "Python 3"
    },
    "language_info": {
      "name": "python"
    },
    "accelerator": "GPU"
  },
  "cells": [
    {
      "cell_type": "code",
      "execution_count": null,
      "metadata": {
        "id": "y1yrSGR2MoT7"
      },
      "outputs": [],
      "source": [
        "# Step 1: Install required libraries\n",
        "!pip install diffusers transformers accelerate torch torchvision safetensors --quiet\n",
        "\n",
        "# Step 2: Import libraries\n",
        "from diffusers import StableDiffusionPipeline\n",
        "import torch\n",
        "\n",
        "# Step 3: Load the Stable Diffusion model\n",
        "model_id = \"runwayml/stable-diffusion-v1-5\"\n",
        "pipe = StableDiffusionPipeline.from_pretrained(model_id, torch_dtype=torch.float16)\n",
        "pipe = pipe.to(\"cuda\")  # Use GPU for faster generation\n",
        "\n",
        "# Step 4: Set your text prompt\n",
        "prompt = \"A futuristic city at sunset, ultra-realistic, 4K resolution\"\n",
        "\n",
        "# Step 5: Generate the image\n",
        "image = pipe(prompt).images[0]\n",
        "\n",
        "# Step 6: Display the image\n",
        "image.show()\n",
        "\n",
        "# Step 7: Save the image\n",
        "image.save(\"generated_image.png\")\n"
      ]
    },
    {
      "cell_type": "code",
      "source": [
        "# Install the required libraries\n",
        "!pip install diffusers transformers accelerate safetensors\n",
        "\n",
        "# Import libraries\n",
        "from diffusers import StableDiffusionPipeline\n",
        "import torch\n",
        "\n",
        "# Load Stable Diffusion pipeline with GPU support\n",
        "pipe = StableDiffusionPipeline.from_pretrained(\n",
        "    \"runwayml/stable-diffusion-v1-5\",\n",
        "    torch_dtype=torch.float16\n",
        ")\n",
        "pipe = pipe.to(\"cuda\")\n",
        "\n",
        "# Text prompt for image generation\n",
        "prompt = \"a serene landscape with mountains, a flowing river, and a golden sunset, photorealistic\"\n",
        "\n",
        "# Generate image\n",
        "image = pipe(prompt).images[0]\n",
        "\n",
        "# Save image\n",
        "image_path = \"generated_image.png\"\n",
        "image.save(image_path)\n",
        "\n",
        "# Display image in Colab\n",
        "from IPython.display import Image as IPImage\n",
        "IPImage(filename=image_path)\n"
      ],
      "metadata": {
        "id": "xfLdlDLHQgZu"
      },
      "execution_count": null,
      "outputs": []
    }
  ]
}